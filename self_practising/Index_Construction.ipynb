{
 "cells": [
  {
   "cell_type": "code",
   "execution_count": 1,
   "metadata": {},
   "outputs": [],
   "source": [
    "import collections\n",
    "import string"
   ]
  },
  {
   "cell_type": "code",
   "execution_count": 2,
   "metadata": {},
   "outputs": [],
   "source": [
    "class Document:\n",
    "    def __init__(self, text, doc_id):\n",
    "        self.text = text\n",
    "        self.doc_id = doc_id"
   ]
  },
  {
   "cell_type": "code",
   "execution_count": 3,
   "metadata": {},
   "outputs": [],
   "source": [
    "class Tokenizer:\n",
    "    @staticmethod\n",
    "    def tokenize(text):\n",
    "        text = ''.join(ch for ch in text if ch not in string.punctuation)\n",
    "        tokens = text.lower().split()\n",
    "        \n",
    "        return tokens"
   ]
  },
  {
   "cell_type": "code",
   "execution_count": 4,
   "metadata": {},
   "outputs": [],
   "source": [
    "class InvertedIndex:\n",
    "    def __init__(self):\n",
    "        self.index = collections.defaultdict(set)\n",
    "\n",
    "    def construct(self, docs):\n",
    "        for doc in docs:\n",
    "            tokens = Tokenizer.tokenize(doc.text)\n",
    "            for token in tokens:\n",
    "                self.index[token].add(doc.doc_id)\n",
    "\n",
    "    def compress(self):\n",
    "        for term, postings in self.index.items():\n",
    "            self.index[term] = self.delta_encode(postings)\n",
    "\n",
    "    def delta_encode(self, postings):\n",
    "        last = 0\n",
    "        compressed = []\n",
    "        for doc_id in sorted(postings):\n",
    "            compressed.append(doc_id - last)\n",
    "            last = doc_id\n",
    "\n",
    "        return compressed\n",
    "\n",
    "    def delta_decode(self, encoded_postings):\n",
    "        decoded = []\n",
    "        last = 0\n",
    "        for delta in encoded_postings:\n",
    "            doc_id = last + delta\n",
    "            decoded.append(doc_id)\n",
    "            last = doc_id\n",
    "\n",
    "        return decoded"
   ]
  },
  {
   "cell_type": "code",
   "execution_count": 5,
   "metadata": {},
   "outputs": [],
   "source": [
    "def search(query, index):\n",
    "    tokens = Tokenizer.tokenize(query)\n",
    "\n",
    "    result = set()\n",
    "    for token in tokens:\n",
    "        postings = index.index.get(token, [])\n",
    "        docs = index.delta_decode(postings)\n",
    "        if not result:\n",
    "            result = set(docs)\n",
    "        else:\n",
    "            result &= set(docs)\n",
    "\n",
    "    return result"
   ]
  }
 ],
 "metadata": {
  "kernelspec": {
   "display_name": "Python 3",
   "language": "python",
   "name": "python3"
  },
  "language_info": {
   "codemirror_mode": {
    "name": "ipython",
    "version": 3
   },
   "file_extension": ".py",
   "mimetype": "text/x-python",
   "name": "python",
   "nbconvert_exporter": "python",
   "pygments_lexer": "ipython3",
   "version": "3.11.6"
  }
 },
 "nbformat": 4,
 "nbformat_minor": 2
}
