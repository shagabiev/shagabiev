{
 "cells": [
  {
   "cell_type": "markdown",
   "metadata": {},
   "source": [
    "link for the material: https://nlp.stanford.edu/IR-book/html/htmledition/evaluation-of-ranked-retrieval-results-1.html"
   ]
  },
  {
   "cell_type": "code",
   "execution_count": null,
   "metadata": {},
   "outputs": [],
   "source": [
    "import numpy as np\n",
    "import matplotlib.pyplot as plt\n",
    "import seaborn as sns"
   ]
  },
  {
   "cell_type": "code",
   "execution_count": 1,
   "metadata": {},
   "outputs": [],
   "source": [
    "def mask_relevance(search_result, relevance):\n",
    "    N = len(search_result)\n",
    "    relevance_mask = np.zeros(N)\n",
    "    relevance_mask[(np.array(relevance) - 1)[:, 0]] = 1\n",
    "    relevance_mask = relevance_mask[np.array(search_result) - 1]\n",
    "    return relevance_mask\n",
    "\n",
    "def precision(search_result, relevance):\n",
    "    N = len(search_result)\n",
    "    relevance_mask = mask_relevance(search_result, relevance)\n",
    "    precision = np.zeros(N)\n",
    "    for p in range(N):\n",
    "        precision[p] = relevance_mask[:(1 + p)].sum() / (1 + p)\n",
    "    return precision\n",
    "\n",
    "def recall(search_result, relevance):\n",
    "    N = len(search_result)\n",
    "    relevance_mask = mask_relevance(search_result, relevance)\n",
    "    M = relevance_mask.sum()\n",
    "    r = np.zeros(N)\n",
    "    for p in range(N):\n",
    "        r[p] = relevance_mask[:(1 + p)].sum()\n",
    "    return np.divide(r, M).astype(np.float64)\n",
    "\n",
    "def interpolate11(precision: np.ndarray, recall: np.ndarray):\n",
    "    p_inter = np.zeros(11)\n",
    "    for i, r in enumerate(np.linspace(0, 1, num=11)):\n",
    "        p_inter[i] = precision[recall >= r].max()\n",
    "    return p_inter\n",
    "\n",
    "def eleven_points_interpolated_avg(search_results, relevance, plot=True):\n",
    "    zipped = [(search_results[i], relevance[i + 1]) for i in range(len(search_results))]\n",
    "    p_inter = []\n",
    "\n",
    "    for result, relev in zipped:\n",
    "        p = precision(result, relev)\n",
    "        r = recall(result, relev)\n",
    "        p_inter.append(interpolate11(p, r))\n",
    "\n",
    "    result = np.mean(np.array(p_inter), axis=0)\n",
    "\n",
    "    if plot:\n",
    "        sns.lineplot(x=np.linspace(0, 1, 11), y=result)\n",
    "        plt.show()\n",
    "\n",
    "    return result"
   ]
  }
 ],
 "metadata": {
  "kernelspec": {
   "display_name": "Python 3",
   "language": "python",
   "name": "python3"
  },
  "language_info": {
   "codemirror_mode": {
    "name": "ipython",
    "version": 3
   },
   "file_extension": ".py",
   "mimetype": "text/x-python",
   "name": "python",
   "nbconvert_exporter": "python",
   "pygments_lexer": "ipython3",
   "version": "3.11.6"
  }
 },
 "nbformat": 4,
 "nbformat_minor": 2
}
