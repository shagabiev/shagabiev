{
 "cells": [
  {
   "cell_type": "code",
   "execution_count": 1,
   "metadata": {},
   "outputs": [],
   "source": [
    "import numpy as np"
   ]
  },
  {
   "cell_type": "code",
   "execution_count": 2,
   "metadata": {},
   "outputs": [],
   "source": [
    "\n",
    "def NDCG(y_true,y_pred,k=5):\n",
    "    y_true[y_true==-1] = 0\n",
    "    ndcg = np.zeros(k)\n",
    "    rank_mat = np.argsort(-y_pred)\n",
    "    sumY = np.sum(y_true,1).ravel()\n",
    "    Ypred = np.zeros([y_true.shape[0],k])\n",
    "    normFac = np.zeros([y_true.shape[0],k])\n",
    "    \n",
    "    for i in range(k):\n",
    "        Jidx = rank_mat[:,i]\n",
    "        Iidx = np.array(range(len(Jidx)))\n",
    "        lbls = y_true[Iidx,Jidx]\n",
    "        Ypred[:,i] = lbls/np.log2(2+i)\n",
    "        sY = np.sum(Ypred[:,:i+1],1)\n",
    "        \n",
    "        \n",
    "        normFac[:,i] = ( (np.float32(sumY>=i+1)+1e-12)/np.log2(2+i) )\n",
    "        sF = np.sum(normFac[:,:i+1],1)\n",
    "        ndcg[i] = np.sum(sY/sF)/y_pred.shape[0]\n",
    "    return ndcg"
   ]
  }
 ],
 "metadata": {
  "kernelspec": {
   "display_name": "Python 3",
   "language": "python",
   "name": "python3"
  },
  "language_info": {
   "codemirror_mode": {
    "name": "ipython",
    "version": 3
   },
   "file_extension": ".py",
   "mimetype": "text/x-python",
   "name": "python",
   "nbconvert_exporter": "python",
   "pygments_lexer": "ipython3",
   "version": "3.11.6"
  }
 },
 "nbformat": 4,
 "nbformat_minor": 2
}
