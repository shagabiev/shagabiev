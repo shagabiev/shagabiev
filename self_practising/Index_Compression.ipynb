{
 "cells": [
  {
   "cell_type": "markdown",
   "metadata": {},
   "source": [
    "link for the material: https://nlp.stanford.edu/IR-book/pdf/05comp.pdf"
   ]
  },
  {
   "cell_type": "code",
   "execution_count": null,
   "metadata": {},
   "outputs": [],
   "source": [
    "\n",
    "import numpy as np\n",
    "import heapq\n",
    "import struct"
   ]
  },
  {
   "cell_type": "code",
   "execution_count": null,
   "metadata": {},
   "outputs": [],
   "source": [
    "\n",
    "def gamma_encode(num):\n",
    "    if num == 0:\n",
    "        return '0'\n",
    "    binary = bin(num)[2:]\n",
    "    unary = '1' * (len(binary) - 1)\n",
    "    return unary + binary\n",
    "\n",
    "def gamma_decode(bitstring):\n",
    "    unary_len = bitstring.index('0') + 1\n",
    "    binary = '1' + bitstring[unary_len:]\n",
    "    return int(binary, 2)\n",
    "\n",
    "def delta_encode(num):\n",
    "    if num == 0:\n",
    "        return '0'\n",
    "    binary = bin(num)[2:]\n",
    "    gamma = gamma_encode(len(binary))\n",
    "    return gamma + binary[1:]\n",
    "\n",
    "def delta_decode(bitstring):\n",
    "    unary_len = bitstring.index('0') + 1\n",
    "    gamma_len = unary_len + unary_len - 1\n",
    "    binary = '1' + bitstring[unary_len:gamma_len]\n",
    "    return int(binary, 2) << (len(bitstring) - gamma_len) | int(bitstring[gamma_len:], 2)\n",
    "\n",
    "def vb_encode(num):\n",
    "    if num == 0:\n",
    "        return b'\\x00'\n",
    "    bytes_ = []\n",
    "    while num > 0:\n",
    "        bytes_.append(num % 128)\n",
    "        num //= 128\n",
    "    bytes_[-1] += 128\n",
    "    return bytes(bytes_[::-1])\n",
    "\n",
    "def vb_decode(bytestring):\n",
    "    num = 0\n",
    "    for byte in bytestring:\n",
    "        num = num * 128 + (byte & 127)\n",
    "        if byte & 128 == 0:\n",
    "            break\n",
    "    return num\n"
   ]
  },
  {
   "cell_type": "code",
   "execution_count": null,
   "metadata": {},
   "outputs": [],
   "source": [
    "\n",
    "def compress_postings_list(postings_list, encoding='gamma'):\n",
    "    if encoding == 'gamma':\n",
    "        return ''.join(gamma_encode(postings_list[i] - postings_list[i - 1]) for i in range(1, len(postings_list)))\n",
    "    elif encoding == 'delta':\n",
    "        return ''.join(delta_encode(postings_list[i] - postings_list[i - 1]) for i in range(1, len(postings_list)))\n",
    "    elif encoding == 'vb':\n",
    "        return b''.join(vb_encode(postings_list[i] - postings_list[i - 1]) for i in range(1, len(postings_list)))\n",
    "\n",
    "def decompress_postings_list(encoded_postings_list, encoding='gamma'):\n",
    "    if encoding == 'gamma':\n",
    "        return [0] + [heapq.nlargest(i, [gamma_decode(encoded_postings_list[j:j + i]) for j in range(0, len(encoded_postings_list), i)])[-1] for i in range(1, len(encoded_postings_list) + 1, 2)]\n",
    "    elif encoding == 'delta':\n",
    "        return [0] + [heapq.nlargest(i, [delta_decode(encoded_postings_list[j:j + i]) for j in range(0, len(encoded_postings_list), i)])[-1] for i in range(1, len(encoded_postings_list) + 1, 2)]\n",
    "    elif encoding == 'vb':\n",
    "        return [0] + [heapq.nlargest(i, [vb_decode(encoded_postings_list[j:j + i]) for j in range(0, len(encoded_postings_list), i)])[-1] for i in range(1, len(encoded_postings_list) + 1)]\n"
   ]
  }
 ],
 "metadata": {
  "language_info": {
   "name": "python"
  }
 },
 "nbformat": 4,
 "nbformat_minor": 2
}
